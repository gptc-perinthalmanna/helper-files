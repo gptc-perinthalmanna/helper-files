{
 "cells": [
  {
   "cell_type": "code",
   "execution_count": 1,
   "metadata": {},
   "outputs": [],
   "source": [
    "import csv\n",
    "\n",
    "# Open previous lists.\n",
    "\n",
    "lists = ['list1.csv', 'list2.csv']\n",
    "registered_numbers = []\n",
    "for files in lists:\n",
    "    f = open(files)\n",
    "    for row in csv.reader(f):\n",
    "        registered_numbers.append(row[1])\n",
    "    f.close()\n",
    "\n",
    "## format the existing array.\n",
    "\n",
    "n = open('new.csv')\n",
    "csv_n = csv.reader(n)\n",
    "formated_list = []\n",
    "for row in csv_n:\n",
    "    if row[0].isdigit():\n",
    "        formated_list.append(row)\n",
    "\n",
    "# Create Ranklists according to the array.\n",
    "\n",
    "final_list = []\n",
    "\n",
    "for row in formated_list:\n",
    "    if row[1] not in registered_numbers:\n",
    "        # if int(row[5]) > 15000:\n",
    "        final_list.append(row)\n",
    "\n",
    "# Save the existing array.\n",
    "\n",
    "header = ['SL NO.',\t'APPN NO'\t,'Aplicant Name'\t,'Type',\t'Index Score',\t'Rank'\t,'Reservation'\t,'Reg. Date']\n",
    "with open('ranklist.csv', mode='w') as employee_file:\n",
    "    employee_writer = csv.writer(employee_file, delimiter=',', quotechar='\"', quoting=csv.QUOTE_MINIMAL)\n",
    "    employee_writer.writerow(header)\n",
    "    for row in final_list:\n",
    "        employee_writer.writerow(row)"
   ]
  }
 ],
 "metadata": {
  "interpreter": {
   "hash": "31f2aee4e71d21fbe5cf8b01ff0e069b9275f58929596ceb00d14d90e3e16cd6"
  },
  "kernelspec": {
   "display_name": "Python 3.9.5 64-bit",
   "name": "python3"
  },
  "language_info": {
   "codemirror_mode": {
    "name": "ipython",
    "version": 3
   },
   "file_extension": ".py",
   "mimetype": "text/x-python",
   "name": "python",
   "nbconvert_exporter": "python",
   "pygments_lexer": "ipython3",
   "version": "3.9.5"
  },
  "orig_nbformat": 4
 },
 "nbformat": 4,
 "nbformat_minor": 2
}
